{
 "cells": [
  {
   "cell_type": "code",
   "execution_count": 1,
   "id": "fe328e65-a420-49f7-8ea4-5afa5245d21f",
   "metadata": {},
   "outputs": [],
   "source": [
    "import pickle"
   ]
  },
  {
   "cell_type": "code",
   "execution_count": 2,
   "id": "cd85a374-4e57-4065-b0f5-daf094adc294",
   "metadata": {},
   "outputs": [],
   "source": [
    "filename=\"random_final.sav\""
   ]
  },
  {
   "cell_type": "code",
   "execution_count": 3,
   "id": "d9ce2443-8216-4233-b28a-531a767802d1",
   "metadata": {},
   "outputs": [
    {
     "name": "stderr",
     "output_type": "stream",
     "text": [
      "C:\\anaconda3\\Lib\\site-packages\\sklearn\\base.py:493: UserWarning: X does not have valid feature names, but RandomForestRegressor was fitted with feature names\n",
      "  warnings.warn(\n"
     ]
    }
   ],
   "source": [
    "loaded_model=pickle.load(open(filename,\"rb\"))\n",
    "result=loaded_model.predict([[1265,255,4362,1,1]])"
   ]
  },
  {
   "cell_type": "code",
   "execution_count": 4,
   "id": "b66769cf-46a1-4963-b925-7043b7c64c65",
   "metadata": {},
   "outputs": [
    {
     "data": {
      "text/plain": [
       "array([50071.3573])"
      ]
     },
     "execution_count": 4,
     "metadata": {},
     "output_type": "execute_result"
    }
   ],
   "source": [
    "result"
   ]
  },
  {
   "cell_type": "code",
   "execution_count": null,
   "id": "e4a19f18-0536-4177-8d9a-adcd75c0afb1",
   "metadata": {},
   "outputs": [],
   "source": []
  }
 ],
 "metadata": {
  "kernelspec": {
   "display_name": "Python 3 (ipykernel)",
   "language": "python",
   "name": "python3"
  },
  "language_info": {
   "codemirror_mode": {
    "name": "ipython",
    "version": 3
   },
   "file_extension": ".py",
   "mimetype": "text/x-python",
   "name": "python",
   "nbconvert_exporter": "python",
   "pygments_lexer": "ipython3",
   "version": "3.12.7"
  }
 },
 "nbformat": 4,
 "nbformat_minor": 5
}
